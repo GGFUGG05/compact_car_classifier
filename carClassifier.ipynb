{
 "cells": [
  {
   "cell_type": "code",
   "execution_count": 1,
   "id": "ce3375c1",
   "metadata": {},
   "outputs": [],
   "source": [
    "from fastbook import *\n",
    "from fastai.vision.widgets import *"
   ]
  },
  {
   "cell_type": "code",
   "execution_count": 3,
   "id": "ac671557",
   "metadata": {},
   "outputs": [],
   "source": [
    "car_types = [\"suv\", \"sport\", \"lego\"]\n",
    "path = Path(\"cars\")"
   ]
  },
  {
   "cell_type": "code",
   "execution_count": 4,
   "id": "55063ffd",
   "metadata": {},
   "outputs": [],
   "source": [
    "if not path.exists():\n",
    "    path.mkdir()\n",
    "    for o in car_types:\n",
    "        dest = (path/o)\n",
    "        dest.mkdir(exist_ok=True)\n",
    "        results = search_images_ddg(f\"{o} car\")\n",
    "        download_images(dest, urls=results )"
   ]
  },
  {
   "cell_type": "code",
   "execution_count": 5,
   "id": "da929397",
   "metadata": {},
   "outputs": [
    {
     "data": {
      "text/plain": [
       "(#571) [Path('cars/lego/002f897c-fe80-4393-a1f0-f2e148b6d1c5.JPG'),Path('cars/lego/01cdec39-529c-4995-a133-89f2eb16dd08.jpg'),Path('cars/lego/02137486-944c-4aa9-aaad-97c902470b56.jpg'),Path('cars/lego/027de39a-ae88-46c8-98c6-8977ec7f14de.jpg'),Path('cars/lego/0624803a-6a48-4cc1-ba4c-f9bd2b93e26a.jpg'),Path('cars/lego/0769714f-908b-4a0f-8867-da659ec915d4.jpg'),Path('cars/lego/0985fb6d-3134-48ba-be1c-014c275cdd85.jpg'),Path('cars/lego/0abce8d4-25b6-4724-bf28-b7d6e328648a.jpg'),Path('cars/lego/0fd35de5-586d-4ee2-ab13-e52c72dd034b.jpeg'),Path('cars/lego/11430a07-2ed7-4d24-be53-320d79ab44af.jpg')...]"
      ]
     },
     "execution_count": 5,
     "metadata": {},
     "output_type": "execute_result"
    }
   ],
   "source": [
    "fns = get_image_files(path)\n",
    "fns"
   ]
  },
  {
   "cell_type": "code",
   "execution_count": 6,
   "id": "951c14c5",
   "metadata": {},
   "outputs": [],
   "source": [
    "failed = verify_images(fns)"
   ]
  },
  {
   "cell_type": "code",
   "execution_count": 7,
   "id": "c4625a96",
   "metadata": {},
   "outputs": [
    {
     "data": {
      "text/plain": [
       "(#37) [Path('cars/lego/17235a02-6128-4718-a391-aa6c60badd8d.jpg'),Path('cars/lego/41c51979-b65e-4b61-8d81-8c0ef78ef0a4.jpg'),Path('cars/lego/67ebe57f-6b63-4cdb-9d79-6fba501872ad.jpg'),Path('cars/lego/70da7aef-334d-4b3d-a149-7186c95d90d0.jpg'),Path('cars/lego/7e79d381-af5e-4270-bb93-3d6b93f79dc5.jpg'),Path('cars/lego/82afecec-a270-4f4f-9073-fbdf547bf736.jpg'),Path('cars/lego/9212c97e-ce4e-4ec2-93cd-ec1bb9945388.jpg'),Path('cars/lego/9ed9d86e-eeb1-454b-b39f-f9339892ba4d.jpg'),Path('cars/lego/b3e679ce-04cf-4fcd-8c25-4957f60c1181.jpg'),Path('cars/lego/d7fc7eee-822c-45bf-8b16-e1f5f42499c0.jpg')...]"
      ]
     },
     "execution_count": 7,
     "metadata": {},
     "output_type": "execute_result"
    }
   ],
   "source": [
    "failed"
   ]
  },
  {
   "cell_type": "code",
   "execution_count": 8,
   "id": "45378450",
   "metadata": {},
   "outputs": [
    {
     "data": {
      "text/plain": [
       "(#37) [None,None,None,None,None,None,None,None,None,None...]"
      ]
     },
     "execution_count": 8,
     "metadata": {},
     "output_type": "execute_result"
    }
   ],
   "source": [
    "failed.map(Path.unlink)"
   ]
  },
  {
   "cell_type": "code",
   "execution_count": 10,
   "id": "d1523df8",
   "metadata": {},
   "outputs": [],
   "source": [
    "# Creat dataloaders\n",
    "# No transformers applied in this case\n",
    "cars = DataBlock(\n",
    "    blocks=(ImageBlock, CategoryBlock), \n",
    "    get_items=get_image_files, \n",
    "    splitter=RandomSplitter(valid_pct=0.2, seed=42),\n",
    "    get_y=parent_label,\n",
    "    item_tfms=Resize(128))\n",
    "dls = cars.dataloaders(path)"
   ]
  },
  {
   "cell_type": "code",
   "execution_count": 11,
   "id": "50a584e0",
   "metadata": {},
   "outputs": [
    {
     "data": {
      "text/html": [
       "\n",
       "<style>\n",
       "    /* Turns off some styling */\n",
       "    progress {\n",
       "        /* gets rid of default border in Firefox and Opera. */\n",
       "        border: none;\n",
       "        /* Needs to be in here for Safari polyfill so background images work as expected. */\n",
       "        background-size: auto;\n",
       "    }\n",
       "    progress:not([value]), progress:not([value])::-webkit-progress-bar {\n",
       "        background: repeating-linear-gradient(45deg, #7e7e7e, #7e7e7e 10px, #5c5c5c 10px, #5c5c5c 20px);\n",
       "    }\n",
       "    .progress-bar-interrupted, .progress-bar-interrupted::-webkit-progress-bar {\n",
       "        background: #F44336;\n",
       "    }\n",
       "</style>\n"
      ],
      "text/plain": [
       "<IPython.core.display.HTML object>"
      ]
     },
     "metadata": {},
     "output_type": "display_data"
    },
    {
     "data": {
      "text/html": [
       "<table border=\"1\" class=\"dataframe\">\n",
       "  <thead>\n",
       "    <tr style=\"text-align: left;\">\n",
       "      <th>epoch</th>\n",
       "      <th>train_loss</th>\n",
       "      <th>valid_loss</th>\n",
       "      <th>error_rate</th>\n",
       "      <th>time</th>\n",
       "    </tr>\n",
       "  </thead>\n",
       "  <tbody>\n",
       "    <tr>\n",
       "      <td>0</td>\n",
       "      <td>1.445212</td>\n",
       "      <td>1.237992</td>\n",
       "      <td>0.349057</td>\n",
       "      <td>00:28</td>\n",
       "    </tr>\n",
       "  </tbody>\n",
       "</table>"
      ],
      "text/plain": [
       "<IPython.core.display.HTML object>"
      ]
     },
     "metadata": {},
     "output_type": "display_data"
    },
    {
     "data": {
      "text/html": [
       "\n",
       "<style>\n",
       "    /* Turns off some styling */\n",
       "    progress {\n",
       "        /* gets rid of default border in Firefox and Opera. */\n",
       "        border: none;\n",
       "        /* Needs to be in here for Safari polyfill so background images work as expected. */\n",
       "        background-size: auto;\n",
       "    }\n",
       "    progress:not([value]), progress:not([value])::-webkit-progress-bar {\n",
       "        background: repeating-linear-gradient(45deg, #7e7e7e, #7e7e7e 10px, #5c5c5c 10px, #5c5c5c 20px);\n",
       "    }\n",
       "    .progress-bar-interrupted, .progress-bar-interrupted::-webkit-progress-bar {\n",
       "        background: #F44336;\n",
       "    }\n",
       "</style>\n"
      ],
      "text/plain": [
       "<IPython.core.display.HTML object>"
      ]
     },
     "metadata": {},
     "output_type": "display_data"
    },
    {
     "data": {
      "text/html": [
       "<table border=\"1\" class=\"dataframe\">\n",
       "  <thead>\n",
       "    <tr style=\"text-align: left;\">\n",
       "      <th>epoch</th>\n",
       "      <th>train_loss</th>\n",
       "      <th>valid_loss</th>\n",
       "      <th>error_rate</th>\n",
       "      <th>time</th>\n",
       "    </tr>\n",
       "  </thead>\n",
       "  <tbody>\n",
       "    <tr>\n",
       "      <td>0</td>\n",
       "      <td>0.658580</td>\n",
       "      <td>0.658878</td>\n",
       "      <td>0.216981</td>\n",
       "      <td>00:29</td>\n",
       "    </tr>\n",
       "    <tr>\n",
       "      <td>1</td>\n",
       "      <td>0.520225</td>\n",
       "      <td>0.440572</td>\n",
       "      <td>0.141509</td>\n",
       "      <td>00:29</td>\n",
       "    </tr>\n",
       "    <tr>\n",
       "      <td>2</td>\n",
       "      <td>0.404673</td>\n",
       "      <td>0.379900</td>\n",
       "      <td>0.113208</td>\n",
       "      <td>00:29</td>\n",
       "    </tr>\n",
       "    <tr>\n",
       "      <td>3</td>\n",
       "      <td>0.321876</td>\n",
       "      <td>0.347081</td>\n",
       "      <td>0.103774</td>\n",
       "      <td>00:29</td>\n",
       "    </tr>\n",
       "  </tbody>\n",
       "</table>"
      ],
      "text/plain": [
       "<IPython.core.display.HTML object>"
      ]
     },
     "metadata": {},
     "output_type": "display_data"
    }
   ],
   "source": [
    "learn = vision_learner(dls, resnet18, metrics=error_rate)\n",
    "learn.fine_tune(4)"
   ]
  },
  {
   "cell_type": "code",
   "execution_count": 13,
   "id": "4c84b4da",
   "metadata": {},
   "outputs": [],
   "source": [
    "learn.export()"
   ]
  },
  {
   "cell_type": "code",
   "execution_count": null,
   "id": "04ed34a5",
   "metadata": {},
   "outputs": [],
   "source": []
  }
 ],
 "metadata": {
  "kernelspec": {
   "display_name": "Python 3 (ipykernel)",
   "language": "python",
   "name": "python3"
  },
  "language_info": {
   "codemirror_mode": {
    "name": "ipython",
    "version": 3
   },
   "file_extension": ".py",
   "mimetype": "text/x-python",
   "name": "python",
   "nbconvert_exporter": "python",
   "pygments_lexer": "ipython3",
   "version": "3.10.9"
  },
  "toc": {
   "base_numbering": 1,
   "nav_menu": {},
   "number_sections": true,
   "sideBar": true,
   "skip_h1_title": false,
   "title_cell": "Table of Contents",
   "title_sidebar": "Contents",
   "toc_cell": false,
   "toc_position": {},
   "toc_section_display": true,
   "toc_window_display": false
  }
 },
 "nbformat": 4,
 "nbformat_minor": 5
}
